{
  "nbformat": 4,
  "nbformat_minor": 0,
  "metadata": {
    "colab": {
      "provenance": [],
      "authorship_tag": "ABX9TyOAp62547z//SBjCzvJBbol",
      "include_colab_link": true
    },
    "kernelspec": {
      "name": "python3",
      "display_name": "Python 3"
    },
    "language_info": {
      "name": "python"
    }
  },
  "cells": [
    {
      "cell_type": "markdown",
      "metadata": {
        "id": "view-in-github",
        "colab_type": "text"
      },
      "source": [
        "<a href=\"https://colab.research.google.com/github/gilanglahat22/15_PuzzleSolver/blob/main/Forward_Propagation_Feed_Forward_Neural_Network.ipynb\" target=\"_parent\"><img src=\"https://colab.research.google.com/assets/colab-badge.svg\" alt=\"Open In Colab\"/></a>"
      ]
    },
    {
      "cell_type": "code",
      "source": [
        "import numpy as np\n",
        "import json"
      ],
      "metadata": {
        "id": "oz0otAKgK6pZ"
      },
      "execution_count": null,
      "outputs": []
    },
    {
      "cell_type": "code",
      "source": [
        "class ActivationFunction:\n",
        "    def __init__(self, activation_function):\n",
        "        if activation_function == 'sigmoid':\n",
        "            self.function = lambda net: 1 / (1 + np.exp(-net))\n",
        "        elif activation_function == 'relu':\n",
        "            self.function = lambda net: np.maximum(0, net)\n",
        "        elif activation_function == 'linear':\n",
        "            self.function = lambda net: net\n",
        "        elif activation_function == 'softmax':\n",
        "            self.function = lambda net: np.exp(net) / np.sum(np.exp(net))\n",
        "\n",
        "    def get_activation_function(self):\n",
        "        return self.function"
      ],
      "metadata": {
        "id": "2HNg3_NQKQ73"
      },
      "execution_count": null,
      "outputs": []
    },
    {
      "cell_type": "code",
      "source": [
        "activation = [\n",
        "    'relu',\n",
        "    'sigmoid',\n",
        "    'linear',\n",
        "    'softmax',\n",
        "]"
      ],
      "metadata": {
        "id": "4Xrz_kzsKKjL"
      },
      "execution_count": null,
      "outputs": []
    },
    {
      "cell_type": "code",
      "execution_count": null,
      "metadata": {
        "id": "yKQX8-nXHuJ7"
      },
      "outputs": [],
      "source": [
        "class Layer:\n",
        "    def __init__(self, neuron: int, activation_function: str, weights: np.array, bias: np.array):\n",
        "        self.neuron = neuron\n",
        "        self.weights = weights\n",
        "        self.bias = bias\n",
        "        if activation_function not in activation:\n",
        "            raise Exception('Invalid activation function')\n",
        "        else:\n",
        "            self.activation_function = activation_function\n",
        "            self.function = ActivationFunction(activation_function).get_activation_function()\n",
        "\n",
        "    def forward(self, input: np.array):\n",
        "        output = self.function(np.dot(input, self.weights) + self.bias)\n",
        "        return output"
      ]
    },
    {
      "cell_type": "code",
      "source": [
        "class FFNN:\n",
        "    def __init__(self):\n",
        "        self.layers = []\n",
        "\n",
        "    def add_layer(self, layer: Layer):\n",
        "        self.layers.append(layer)\n",
        "\n",
        "    def forward(self, input: np.array):\n",
        "        output = input\n",
        "        for layer in self.layers:\n",
        "            output = layer.forward(output)\n",
        "        return output"
      ],
      "metadata": {
        "id": "6EqC5A7ZKqpv"
      },
      "execution_count": null,
      "outputs": []
    },
    {
      "cell_type": "code",
      "source": [
        "model = open(f'../../Bagian-A/test/relu.json', 'r')\n",
        "model = json.load(model)\n",
        "\n",
        "layers = model['case']['model']['layers']\n",
        "weights = model['case']['weights']\n",
        "\n",
        "ffnn = FFNN()\n",
        "for i in range (len(layers)):\n",
        "    layer = layers[i]\n",
        "    weight = weights[i]\n",
        "    ffnn.add_layer(Layer(layer[\"number_of_neurons\"], layer[\"activation_function\"], np.array(weight[1:]), np.array(weight[0])))\n",
        "\n",
        "input = model[\"case\"][\"input\"]\n",
        "\n",
        "output = ffnn.forward(input)\n",
        "expected_output = model['expect']['output']\n",
        "\n",
        "print(f'output: {output}')\n",
        "print(f'expected output: {expected_output}')"
      ],
      "metadata": {
        "id": "8bF3LAT5KyGy"
      },
      "execution_count": null,
      "outputs": []
    }
  ]
}